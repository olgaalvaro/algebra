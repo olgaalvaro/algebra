{
 "cells": [
  {
   "cell_type": "markdown",
   "metadata": {},
   "source": [
    "# Práctica"
   ]
  },
  {
   "cell_type": "markdown",
   "metadata": {},
   "source": [
    "## 1. La conjetura de Collatz\n",
    "\n",
    "<img src=\"Images/comic_collatz.png\" style=\"width: 400px;\"/>\n",
    "\n",
    "Empiezas con un número entero natural cualquiera (1, 2, 3, 4, 5...).  \n",
    "Si el número es par, lo divides por 2  \n",
    "Si es impar, lo multiplicas por 3 y le sumas 1  \n",
    "\n",
    "Escribir un procedimiento en Python que implemente el mecanismo de la conjetura de Collatz para cualquier número entero positivo."
   ]
  },
  {
   "cell_type": "code",
   "execution_count": 1,
   "metadata": {},
   "outputs": [],
   "source": [
    "# Procedimiento en Python para implementar el mecanismo de la conjetura de Collatz\n",
    "# Pedir número entero natural cualquiera (1, 2, 3, 4, 5...).\n",
    "# - Si el número es par, lo divides por 2\n",
    "# - Si es impar, lo multiplicas por 3 y le sumas 1\n",
    "# Repetir el proceso hasta que obtener el 1\n",
    "\n",
    "def conjetura_Collatz():\n",
    "    \n",
    "    # Entrada de datos\n",
    "    isvalida = False\n",
    "\n",
    "    while not isvalida:\n",
    "        # Pedir un número por teclado\n",
    "        strentero = input(\"Introduce un nº entero positivo: \")\n",
    "        # Comprobamos que el valor introducido es un número positivo\n",
    "        if strentero.isdigit() and strentero != '0':\n",
    "            ientero = int(strentero)\n",
    "            isvalida = True\n",
    "        else:\n",
    "            print(strentero, \" debe ser un entero positivo\")\n",
    "\n",
    "    # Procesamiento de los datos    \n",
    "    indice = 0\n",
    "    while (ientero != 1):\n",
    "        # Si es positivo se divide entre  2 y si es impar se * por 3 + 1\n",
    "        if ientero%2 == 0:\n",
    "            ientero = int(ientero/2)\n",
    "        else:\n",
    "            ientero = 3*ientero + 1\n",
    "        indice = indice +1\n",
    "        # Salida de los resultados\n",
    "        print(\"Iteración: {0:3d}\".format(indice), \"Entero positivo: {0:6d}\".format(ientero))\n"
   ]
  },
  {
   "cell_type": "code",
   "execution_count": 2,
   "metadata": {},
   "outputs": [
    {
     "name": "stdout",
     "output_type": "stream",
     "text": [
      "Introduce un nº entero positivo: 0\n",
      "0  debe ser un entero positivo\n",
      "Introduce un nº entero positivo: doce\n",
      "doce  debe ser un entero positivo\n",
      "Introduce un nº entero positivo: -25.36\n",
      "-25.36  debe ser un entero positivo\n",
      "Introduce un nº entero positivo: -612\n",
      "-612  debe ser un entero positivo\n",
      "Introduce un nº entero positivo: 147,657\n",
      "147,657  debe ser un entero positivo\n",
      "Introduce un nº entero positivo: 21\n",
      "Iteración:   1 Entero positivo:     64\n",
      "Iteración:   2 Entero positivo:     32\n",
      "Iteración:   3 Entero positivo:     16\n",
      "Iteración:   4 Entero positivo:      8\n",
      "Iteración:   5 Entero positivo:      4\n",
      "Iteración:   6 Entero positivo:      2\n",
      "Iteración:   7 Entero positivo:      1\n"
     ]
    }
   ],
   "source": [
    "conjetura_Collatz()"
   ]
  },
  {
   "cell_type": "code",
   "execution_count": 3,
   "metadata": {},
   "outputs": [
    {
     "name": "stdout",
     "output_type": "stream",
     "text": [
      "Introduce un nº entero positivo: 0\n",
      "0  debe ser un entero positivo\n",
      "Introduce un nº entero positivo: veinte\n",
      "veinte  debe ser un entero positivo\n",
      "Introduce un nº entero positivo: abdc\n",
      "abdc  debe ser un entero positivo\n",
      "Introduce un nº entero positivo: -687\n",
      "-687  debe ser un entero positivo\n",
      "Introduce un nº entero positivo: 25.87\n",
      "25.87  debe ser un entero positivo\n",
      "Introduce un nº entero positivo: 314,17\n",
      "314,17  debe ser un entero positivo\n",
      "Introduce un nº entero positivo: 8356\n",
      "Iteración:   1 Entero positivo:   4178\n",
      "Iteración:   2 Entero positivo:   2089\n",
      "Iteración:   3 Entero positivo:   6268\n",
      "Iteración:   4 Entero positivo:   3134\n",
      "Iteración:   5 Entero positivo:   1567\n",
      "Iteración:   6 Entero positivo:   4702\n",
      "Iteración:   7 Entero positivo:   2351\n",
      "Iteración:   8 Entero positivo:   7054\n",
      "Iteración:   9 Entero positivo:   3527\n",
      "Iteración:  10 Entero positivo:  10582\n",
      "Iteración:  11 Entero positivo:   5291\n",
      "Iteración:  12 Entero positivo:  15874\n",
      "Iteración:  13 Entero positivo:   7937\n",
      "Iteración:  14 Entero positivo:  23812\n",
      "Iteración:  15 Entero positivo:  11906\n",
      "Iteración:  16 Entero positivo:   5953\n",
      "Iteración:  17 Entero positivo:  17860\n",
      "Iteración:  18 Entero positivo:   8930\n",
      "Iteración:  19 Entero positivo:   4465\n",
      "Iteración:  20 Entero positivo:  13396\n",
      "Iteración:  21 Entero positivo:   6698\n",
      "Iteración:  22 Entero positivo:   3349\n",
      "Iteración:  23 Entero positivo:  10048\n",
      "Iteración:  24 Entero positivo:   5024\n",
      "Iteración:  25 Entero positivo:   2512\n",
      "Iteración:  26 Entero positivo:   1256\n",
      "Iteración:  27 Entero positivo:    628\n",
      "Iteración:  28 Entero positivo:    314\n",
      "Iteración:  29 Entero positivo:    157\n",
      "Iteración:  30 Entero positivo:    472\n",
      "Iteración:  31 Entero positivo:    236\n",
      "Iteración:  32 Entero positivo:    118\n",
      "Iteración:  33 Entero positivo:     59\n",
      "Iteración:  34 Entero positivo:    178\n",
      "Iteración:  35 Entero positivo:     89\n",
      "Iteración:  36 Entero positivo:    268\n",
      "Iteración:  37 Entero positivo:    134\n",
      "Iteración:  38 Entero positivo:     67\n",
      "Iteración:  39 Entero positivo:    202\n",
      "Iteración:  40 Entero positivo:    101\n",
      "Iteración:  41 Entero positivo:    304\n",
      "Iteración:  42 Entero positivo:    152\n",
      "Iteración:  43 Entero positivo:     76\n",
      "Iteración:  44 Entero positivo:     38\n",
      "Iteración:  45 Entero positivo:     19\n",
      "Iteración:  46 Entero positivo:     58\n",
      "Iteración:  47 Entero positivo:     29\n",
      "Iteración:  48 Entero positivo:     88\n",
      "Iteración:  49 Entero positivo:     44\n",
      "Iteración:  50 Entero positivo:     22\n",
      "Iteración:  51 Entero positivo:     11\n",
      "Iteración:  52 Entero positivo:     34\n",
      "Iteración:  53 Entero positivo:     17\n",
      "Iteración:  54 Entero positivo:     52\n",
      "Iteración:  55 Entero positivo:     26\n",
      "Iteración:  56 Entero positivo:     13\n",
      "Iteración:  57 Entero positivo:     40\n",
      "Iteración:  58 Entero positivo:     20\n",
      "Iteración:  59 Entero positivo:     10\n",
      "Iteración:  60 Entero positivo:      5\n",
      "Iteración:  61 Entero positivo:     16\n",
      "Iteración:  62 Entero positivo:      8\n",
      "Iteración:  63 Entero positivo:      4\n",
      "Iteración:  64 Entero positivo:      2\n",
      "Iteración:  65 Entero positivo:      1\n"
     ]
    }
   ],
   "source": [
    "# Procedimiento con parametro de entrada\n",
    "def pconjetura_Collatz(mensaje):\n",
    "    \n",
    "    # Entrada de datos\n",
    "    # Pedir un número por teclado\n",
    "    strentero = input(mensaje)\n",
    "    isvalida = False\n",
    "\n",
    "    while not isvalida:\n",
    "        # Comprobamos que el valor introducido es un número positivo\n",
    "        if strentero.isdigit() and strentero != '0':\n",
    "            isvalida = True\n",
    "        else:\n",
    "            print(strentero, \" debe ser un entero positivo\")\n",
    "            strentero = input(mensaje)\n",
    "    return strentero\n",
    "\n",
    "\n",
    "strentero = pconjetura_Collatz(\"Introduce un nº entero positivo: \")\n",
    "\n",
    "# Procesamiento de los datos\n",
    "ientero = int(strentero)\n",
    "indice = 0\n",
    "while (ientero != 1):\n",
    "    # Si es positivo se divide entre  2 y si es impar se * por 3 + 1\n",
    "    if ientero%2 == 0:\n",
    "        ientero = int(ientero/2)\n",
    "    else:\n",
    "        ientero = 3*ientero + 1\n",
    "    indice = indice +1\n",
    "    # Salida de los resultados\n",
    "    print(\"Iteración: {0:3d}\".format(indice), \"Entero positivo: {0:6d}\".format(ientero))\n",
    "    "
   ]
  },
  {
   "cell_type": "markdown",
   "metadata": {},
   "source": [
    "## 2. Suma y producto escalar combinados\n",
    "\n",
    "Usando los procedimientos add y mult_vector_escalar definidos en el notebook **ALG05_Vectores**, calcular:   \n",
    "{$\\alpha$[1,2]+[3,4] : $\\alpha$$\\in$$\\mathbb{R}$, 0$\\leq$$\\alpha$$\\leq$1, con una precision de dos decimales (para la multiplicación)}"
   ]
  },
  {
   "cell_type": "markdown",
   "metadata": {},
   "source": [
    "#### Opción 1. Con los límites de alpha fijos en el código"
   ]
  },
  {
   "cell_type": "code",
   "execution_count": 4,
   "metadata": {},
   "outputs": [],
   "source": [
    "# Procedimiento para sumar dos vectores de dos componentes\n",
    "def add(v, w):\n",
    "    return [round(v[0]+w[0], 2), round(v[1]+w[1], 2)]\n",
    "\n",
    "# Procedimiento para multiplicar un escalar alpha por un vector de longitud determinada\n",
    "# Aplicar una precision de dos decimales (para la multiplicación)\n",
    "def mult_vector_escalar(alpha, v):\n",
    "    return  [round(alpha * v[i], 2) for i in range(len(v))]\n",
    "\n",
    "\n",
    "# Procedimiento que valida que el nº indicado como alpha es un real comprendido entre 0 y 1\n",
    "def listaalpha():\n",
    "\n",
    "    # Lista de reales comprendidos entre 0 y 1 con dos decimales\n",
    "    lalpha=[]\n",
    "    liminf = 0.00  # limite inferior\n",
    "    limsup = 1.01  # límite supereior\n",
    "    \n",
    "    ninc = 0.01\n",
    "    alpha = 0.00\n",
    "    \n",
    "    while alpha <= limsup:      \n",
    "        lalpha.append(round(alpha, 2))        \n",
    "        alpha +=  ninc\n",
    "        \n",
    "    print (\"Lista lalpha: \", lalpha)\n",
    "    return lalpha\n",
    "   \n",
    "# Calcular {alpha[1, 2] + [3,4]: alpha sea un Real comprendido entre 0 y 1}\n",
    "def calculotot_opcombinada(v, w):\n",
    "\n",
    "    lreal =  listaalpha()\n",
    "    lvprodescalar = []\n",
    "    lresultado = []\n",
    "    \n",
    "    # Producto escalar\n",
    "    for item in range(len(lreal)):\n",
    "        lvprodescalar.append(mult_vector_escalar(lreal[item], v))\n",
    "\n",
    "    # Suma lista de vectores\n",
    "    for item in range(len(lvprodescalar)):\n",
    "        lresultado.append(add(lvprodescalar[item], w))\n",
    "        \n",
    "    print (\"El conjunto resultante final es: \", lresultado)\n"
   ]
  },
  {
   "cell_type": "code",
   "execution_count": 5,
   "metadata": {
    "scrolled": true
   },
   "outputs": [
    {
     "name": "stdout",
     "output_type": "stream",
     "text": [
      "Lista lalpha:  [0.0, 0.01, 0.02, 0.03, 0.04, 0.05, 0.06, 0.07, 0.08, 0.09, 0.1, 0.11, 0.12, 0.13, 0.14, 0.15, 0.16, 0.17, 0.18, 0.19, 0.2, 0.21, 0.22, 0.23, 0.24, 0.25, 0.26, 0.27, 0.28, 0.29, 0.3, 0.31, 0.32, 0.33, 0.34, 0.35, 0.36, 0.37, 0.38, 0.39, 0.4, 0.41, 0.42, 0.43, 0.44, 0.45, 0.46, 0.47, 0.48, 0.49, 0.5, 0.51, 0.52, 0.53, 0.54, 0.55, 0.56, 0.57, 0.58, 0.59, 0.6, 0.61, 0.62, 0.63, 0.64, 0.65, 0.66, 0.67, 0.68, 0.69, 0.7, 0.71, 0.72, 0.73, 0.74, 0.75, 0.76, 0.77, 0.78, 0.79, 0.8, 0.81, 0.82, 0.83, 0.84, 0.85, 0.86, 0.87, 0.88, 0.89, 0.9, 0.91, 0.92, 0.93, 0.94, 0.95, 0.96, 0.97, 0.98, 0.99, 1.0]\n",
      "El conjunto resultante final es:  [[3.0, 4.0], [3.01, 4.02], [3.02, 4.04], [3.03, 4.06], [3.04, 4.08], [3.05, 4.1], [3.06, 4.12], [3.07, 4.14], [3.08, 4.16], [3.09, 4.18], [3.1, 4.2], [3.11, 4.22], [3.12, 4.24], [3.13, 4.26], [3.14, 4.28], [3.15, 4.3], [3.16, 4.32], [3.17, 4.34], [3.18, 4.36], [3.19, 4.38], [3.2, 4.4], [3.21, 4.42], [3.22, 4.44], [3.23, 4.46], [3.24, 4.48], [3.25, 4.5], [3.26, 4.52], [3.27, 4.54], [3.28, 4.56], [3.29, 4.58], [3.3, 4.6], [3.31, 4.62], [3.32, 4.64], [3.33, 4.66], [3.34, 4.68], [3.35, 4.7], [3.36, 4.72], [3.37, 4.74], [3.38, 4.76], [3.39, 4.78], [3.4, 4.8], [3.41, 4.82], [3.42, 4.84], [3.43, 4.86], [3.44, 4.88], [3.45, 4.9], [3.46, 4.92], [3.47, 4.94], [3.48, 4.96], [3.49, 4.98], [3.5, 5.0], [3.51, 5.02], [3.52, 5.04], [3.53, 5.06], [3.54, 5.08], [3.55, 5.1], [3.56, 5.12], [3.57, 5.14], [3.58, 5.16], [3.59, 5.18], [3.6, 5.2], [3.61, 5.22], [3.62, 5.24], [3.63, 5.26], [3.64, 5.28], [3.65, 5.3], [3.66, 5.32], [3.67, 5.34], [3.68, 5.36], [3.69, 5.38], [3.7, 5.4], [3.71, 5.42], [3.72, 5.44], [3.73, 5.46], [3.74, 5.48], [3.75, 5.5], [3.76, 5.52], [3.77, 5.54], [3.78, 5.56], [3.79, 5.58], [3.8, 5.6], [3.81, 5.62], [3.82, 5.64], [3.83, 5.66], [3.84, 5.68], [3.85, 5.7], [3.86, 5.72], [3.87, 5.74], [3.88, 5.76], [3.89, 5.78], [3.9, 5.8], [3.91, 5.82], [3.92, 5.84], [3.93, 5.86], [3.94, 5.88], [3.95, 5.9], [3.96, 5.92], [3.97, 5.94], [3.98, 5.96], [3.99, 5.98], [4.0, 6.0]]\n"
     ]
    }
   ],
   "source": [
    "calculotot_opcombinada([1, 2], [3,4])"
   ]
  },
  {
   "cell_type": "markdown",
   "metadata": {},
   "source": [
    "####  Opción 2. Con los límites de alpha contemplados como parámetros"
   ]
  },
  {
   "cell_type": "code",
   "execution_count": 6,
   "metadata": {},
   "outputs": [],
   "source": [
    "# Igual que el procedimiento anterior pero con los límites de alpha incluidos como parámetro\n",
    "# Procedimiento para sumar dos vectores de dos componentes\n",
    "def add(v, w):\n",
    "    return [round(v[0]+w[0], 2), round(v[1]+w[1], 2)]\n",
    "\n",
    "# Procedimiento para multiplicar un escalar alpha por un vector de longitud determinada\n",
    "# Aplicar una precision de dos decimales (para la multiplicación)\n",
    "def mult_vector_escalar(alpha, v):\n",
    "    return  [round(alpha * v[i], 2) for i in range(len(v))]\n",
    "\n",
    "\n",
    "# Procedimiento que valida que el nº indicado como alpha es un real comprendido entre dos valores\n",
    "# incluidos por parámetros \n",
    "def listaalpha(liminf, limsup):\n",
    "\n",
    "    # Lista de reales comprendidos entre 0 y 1 con dos decimales\n",
    "    lalpha=[]\n",
    "    \n",
    "    ninc = 0.01\n",
    "    alpha = 0.00\n",
    "    \n",
    "    while alpha <= limsup + ninc :      \n",
    "        lalpha.append(round(alpha, 2))        \n",
    "        alpha +=  ninc\n",
    "        \n",
    "    print (\"Lista lalpha: \", lalpha)\n",
    "    return lalpha\n",
    "   \n",
    "# Calcular {alpha[1, 2] + [3,4]: alpha sea un Real comprendido entre dos valores a y b}\n",
    "def calculototab_opcombinada(a, b, v, w):\n",
    "\n",
    "    lreal =  listaalpha(a, b)\n",
    "    lvprodescalar = []\n",
    "    lresultado = []\n",
    "    \n",
    "    # Producto escalar\n",
    "    for item in range(len(lreal)):\n",
    "        lvprodescalar.append(mult_vector_escalar(lreal[item], v))\n",
    "\n",
    "    # Suma lista de vectores\n",
    "    for item in range(len(lvprodescalar)):\n",
    "        lresultado.append(add(lvprodescalar[item], w))\n",
    "        \n",
    "    print (\"El conjunto resultante final es: \", lresultado)\n",
    "    \n"
   ]
  },
  {
   "cell_type": "code",
   "execution_count": 7,
   "metadata": {},
   "outputs": [
    {
     "name": "stdout",
     "output_type": "stream",
     "text": [
      "Lista lalpha:  [0.0, 0.01, 0.02, 0.03, 0.04, 0.05, 0.06, 0.07, 0.08, 0.09, 0.1, 0.11, 0.12, 0.13, 0.14, 0.15, 0.16, 0.17, 0.18, 0.19, 0.2, 0.21, 0.22, 0.23, 0.24, 0.25, 0.26, 0.27, 0.28, 0.29, 0.3, 0.31, 0.32, 0.33, 0.34, 0.35, 0.36, 0.37, 0.38, 0.39, 0.4, 0.41, 0.42, 0.43, 0.44, 0.45, 0.46, 0.47, 0.48, 0.49, 0.5, 0.51, 0.52, 0.53, 0.54, 0.55, 0.56, 0.57, 0.58, 0.59, 0.6, 0.61, 0.62, 0.63, 0.64, 0.65, 0.66, 0.67, 0.68, 0.69, 0.7, 0.71, 0.72, 0.73, 0.74, 0.75, 0.76, 0.77, 0.78, 0.79, 0.8, 0.81, 0.82, 0.83, 0.84, 0.85, 0.86, 0.87, 0.88, 0.89, 0.9, 0.91, 0.92, 0.93, 0.94, 0.95, 0.96, 0.97, 0.98, 0.99, 1.0]\n",
      "El conjunto resultante final es:  [[3.0, 4.0], [3.01, 4.02], [3.02, 4.04], [3.03, 4.06], [3.04, 4.08], [3.05, 4.1], [3.06, 4.12], [3.07, 4.14], [3.08, 4.16], [3.09, 4.18], [3.1, 4.2], [3.11, 4.22], [3.12, 4.24], [3.13, 4.26], [3.14, 4.28], [3.15, 4.3], [3.16, 4.32], [3.17, 4.34], [3.18, 4.36], [3.19, 4.38], [3.2, 4.4], [3.21, 4.42], [3.22, 4.44], [3.23, 4.46], [3.24, 4.48], [3.25, 4.5], [3.26, 4.52], [3.27, 4.54], [3.28, 4.56], [3.29, 4.58], [3.3, 4.6], [3.31, 4.62], [3.32, 4.64], [3.33, 4.66], [3.34, 4.68], [3.35, 4.7], [3.36, 4.72], [3.37, 4.74], [3.38, 4.76], [3.39, 4.78], [3.4, 4.8], [3.41, 4.82], [3.42, 4.84], [3.43, 4.86], [3.44, 4.88], [3.45, 4.9], [3.46, 4.92], [3.47, 4.94], [3.48, 4.96], [3.49, 4.98], [3.5, 5.0], [3.51, 5.02], [3.52, 5.04], [3.53, 5.06], [3.54, 5.08], [3.55, 5.1], [3.56, 5.12], [3.57, 5.14], [3.58, 5.16], [3.59, 5.18], [3.6, 5.2], [3.61, 5.22], [3.62, 5.24], [3.63, 5.26], [3.64, 5.28], [3.65, 5.3], [3.66, 5.32], [3.67, 5.34], [3.68, 5.36], [3.69, 5.38], [3.7, 5.4], [3.71, 5.42], [3.72, 5.44], [3.73, 5.46], [3.74, 5.48], [3.75, 5.5], [3.76, 5.52], [3.77, 5.54], [3.78, 5.56], [3.79, 5.58], [3.8, 5.6], [3.81, 5.62], [3.82, 5.64], [3.83, 5.66], [3.84, 5.68], [3.85, 5.7], [3.86, 5.72], [3.87, 5.74], [3.88, 5.76], [3.89, 5.78], [3.9, 5.8], [3.91, 5.82], [3.92, 5.84], [3.93, 5.86], [3.94, 5.88], [3.95, 5.9], [3.96, 5.92], [3.97, 5.94], [3.98, 5.96], [3.99, 5.98], [4.0, 6.0]]\n"
     ]
    }
   ],
   "source": [
    "calculototab_opcombinada(0, 1, [1, 2], [3,4])"
   ]
  },
  {
   "cell_type": "markdown",
   "metadata": {},
   "source": [
    "#### Opción 3. Con el valor alpha introducido por teclado con las validaciones pertinentes"
   ]
  },
  {
   "cell_type": "code",
   "execution_count": 8,
   "metadata": {},
   "outputs": [],
   "source": [
    "# Procedimiento para sumar dos vectores de dos componentes\n",
    "def add(v, w):\n",
    "    return [v[0]+w[0], v[1]+w[1]]\n",
    "\n",
    "# Procedimiento para multiplicar un escalar alpha por un vector de longitud determinada\n",
    "# Aplicar una precision de dos decimales (para la multiplicación)\n",
    "def mult_vector_escalar(alpha, v):\n",
    "    return  [round(alpha * v[i], 2) for i in range(len(v))]\n",
    "\n",
    "# Procedimiento que valida que un número es decimal y está comprendido entre 0 y 1\n",
    "def esDecimal(numero):\n",
    "    try:\n",
    "        nreal = float(numero)\n",
    "        if (nreal >= 0 and nreal <= 1):\n",
    "            return True\n",
    "        else:\n",
    "            return False\n",
    "    except:\n",
    "        return False\n",
    "\n",
    "# Calcular {alpha[1, 2] + [3,4]: alpha sea un Real comprendido entre 0 y 1\n",
    "def calculo(v, w):\n",
    "    \n",
    "    stralpha = input(\"Introduzca un nº real comprendido entre 0 y 1: \")\n",
    "    \n",
    "    while not esDecimal(stralpha):\n",
    "        print(stralpha, \" debe ser un nº real comprendido entre 0 y 1\")\n",
    "        stralpha = input(\"Introduzca un nº real comprendido entre 0 y 1: \")\n",
    "\n",
    "    alpha = float(stralpha)\n",
    "    print (\"alpha: \", alpha)\n",
    "    vprima = mult_vector_escalar(alpha, v)\n",
    "    vresultado = add(vprima, w)\n",
    "    print (\"El vector resultante es: \", vresultado)\n",
    "    return vresultado"
   ]
  },
  {
   "cell_type": "code",
   "execution_count": 9,
   "metadata": {},
   "outputs": [
    {
     "name": "stdout",
     "output_type": "stream",
     "text": [
      "Introduzca un nº real comprendido entre 0 y 1: 0.2\n",
      "alpha:  0.2\n",
      "El vector resultante es:  [3.2, 4.4]\n"
     ]
    },
    {
     "data": {
      "text/plain": [
       "[3.2, 4.4]"
      ]
     },
     "execution_count": 9,
     "metadata": {},
     "output_type": "execute_result"
    }
   ],
   "source": [
    "calculo([1, 2], [3,4])"
   ]
  },
  {
   "cell_type": "code",
   "execution_count": 10,
   "metadata": {},
   "outputs": [
    {
     "name": "stdout",
     "output_type": "stream",
     "text": [
      "Introduzca un nº real comprendido entre 0 y 1: 3.6\n",
      "3.6  debe ser un nº real comprendido entre 0 y 1\n",
      "Introduzca un nº real comprendido entre 0 y 1: 5,44\n",
      "5,44  debe ser un nº real comprendido entre 0 y 1\n",
      "Introduzca un nº real comprendido entre 0 y 1: -156\n",
      "-156  debe ser un nº real comprendido entre 0 y 1\n",
      "Introduzca un nº real comprendido entre 0 y 1: 258\n",
      "258  debe ser un nº real comprendido entre 0 y 1\n",
      "Introduzca un nº real comprendido entre 0 y 1: 0\n",
      "alpha:  0.0\n",
      "El vector resultante es:  [3.0, 4.0]\n"
     ]
    },
    {
     "data": {
      "text/plain": [
       "[3.0, 4.0]"
      ]
     },
     "execution_count": 10,
     "metadata": {},
     "output_type": "execute_result"
    }
   ],
   "source": [
    "calculo([1, 2], [3,4])"
   ]
  },
  {
   "cell_type": "code",
   "execution_count": 11,
   "metadata": {},
   "outputs": [
    {
     "name": "stdout",
     "output_type": "stream",
     "text": [
      "Introduzca un nº real comprendido entre 0 y 1: 1\n",
      "alpha:  1.0\n",
      "El vector resultante es:  [4.0, 6.0]\n"
     ]
    },
    {
     "data": {
      "text/plain": [
       "[4.0, 6.0]"
      ]
     },
     "execution_count": 11,
     "metadata": {},
     "output_type": "execute_result"
    }
   ],
   "source": [
    "calculo([1, 2], [3,4])"
   ]
  },
  {
   "cell_type": "markdown",
   "metadata": {},
   "source": [
    "## 3. El secreto perfecto\n",
    "\n",
    "Representa la encriptación de la adicción de un n-vector a un n-vector de GF(2)  \n",
    "\n",
    "<img src=\"Images/mortadelo-filemon.jpg\" style=\"width: 300px;\"/>\n",
    "\n",
    "Mortadelo y Filemón usan como clave el siguiente vector:  \n",
    "**k**=[0,1,0,0,1,0,1,0,1,0] \n",
    "\n",
    "Mortadelo quiere enviarle a Filemón el siguiente mensaje:  \n",
    "**p**=[0,0,0,1,1,1,0,1,0,1] \n",
    "\n",
    "Mortadelo encripta su mensaje añadiendo k: \n",
    "**c**=**p**+**k**=[0,0,0,1,1,1,0,1,0,1]+[0,1,0,0,1,0,1,0,1,0]=[0,1,0,1,0,1,1,1,1,1] \n",
    "\n",
    "Cuando Filemón recibe el mensaje, lo desencripta añadiendo **k** a lo que ha recibido \n",
    "**p**=**c**+**k**=[0,1,0,1,0,1,1,1,1,1]+[0,1,0,0,1,0,1,0,1,0]=[0,0,0,1,1,1,0,1,0,1]    \n",
    "\n",
    "que es el mensaje original.\n",
    "\n",
    "La idea es crear un procedimiento para que Filemón:\n",
    "* No tenga que hacer este proceso manualmente cada vez que Mortadelo le envíe un mensaje encriptado para descifrarlo\n",
    "* Si deciden cambiar la clave, que el procedimiento cambie mínimamente\n",
    "\n",
    "  \n"
   ]
  },
  {
   "cell_type": "code",
   "execution_count": 12,
   "metadata": {},
   "outputs": [],
   "source": [
    "clave   = [0,1,0,0,1,0,1,0,1,0]\n",
    "mensaje = [0,0,0,1,1,1,0,1,0,1]\n",
    "\n",
    "# Procedimiento para sumar dos vectores de longitud determinada pero desconocida a priori\n",
    "# y cuyos valores se encuentran definidos en GF(2)\n",
    "def addngf2(v, w):\n",
    "    return[(v[i] + w[i])%2 for i in range(len(v))]  # len(v) = len(w)\n",
    "\n",
    "# Procedimiento que calcula la encriptación/desencriptación de la adicción de un n-vector a un n-vector de GF(2)\n",
    "def secreto_perfecto(clave, mensaje):\n",
    "    \n",
    "    print(\"Mensaje original:   \", mensaje)\n",
    "        \n",
    "    # Encriptación del mensaje\n",
    "    mencriptado = addngf2(mensaje, clave)\n",
    "    print (\"Mensaje encriptado: \", mencriptado)\n",
    "    \n",
    "    # Desencriptación del mensaje\n",
    "    mresultante = addngf2(mencriptado, clave)\n",
    "    print (\"Mensaje resultante: \", mresultante)\n",
    " \n",
    "    # Comprobación de que el mensaje desencriptado coincide con el mensaje original\n",
    "    if mresultante == mensaje:\n",
    "        print(\"El mensaje desencriptado coincide con el mensaje original, está OK\")\n",
    "    else:\n",
    "        print(\"Procedimiento erróneo\")"
   ]
  },
  {
   "cell_type": "code",
   "execution_count": 13,
   "metadata": {},
   "outputs": [
    {
     "name": "stdout",
     "output_type": "stream",
     "text": [
      "Mensaje original:    [0, 0, 0, 1, 1, 1, 0, 1, 0, 1]\n",
      "Mensaje encriptado:  [0, 1, 0, 1, 0, 1, 1, 1, 1, 1]\n",
      "Mensaje resultante:  [0, 0, 0, 1, 1, 1, 0, 1, 0, 1]\n",
      "El mensaje desencriptado coincide con el mensaje original, está OK\n"
     ]
    }
   ],
   "source": [
    "secreto_perfecto(clave, mensaje)"
   ]
  },
  {
   "cell_type": "markdown",
   "metadata": {},
   "source": [
    "## 4. ¿Cuánto cuesta hacer una cerveza?\n",
    "\n",
    "<img src=\"Images/cerveza.jpg\" style=\"width: 300px;\"/>\n",
    "\n",
    "Supongamos que D es el conjunto de algunos ingredientes de la cerveza: \n",
    "> D={lúpulo, malta, agua, levadura} \n",
    "\n",
    "Por otro lado tenemos el vector coste:\n",
    "> coste={lúpulo: 2,5€, malta: 1.5€, agua: 0.006€, levadura: 0,45€}  \n",
    "\n",
    "Por último tenemos el vector cantidad con lo necesario para hacer una cerveza:\n",
    "> cantidad={lúpulo: 6u, malta: 14u, agua: 7u, levadura: 11u} \n",
    "\n",
    "¿Cuánto cuesta hacer una cerveza?"
   ]
  },
  {
   "cell_type": "markdown",
   "metadata": {},
   "source": [
    "#### Opción 1. Con el coste total y de cada uno de los ingredientes"
   ]
  },
  {
   "cell_type": "code",
   "execution_count": 14,
   "metadata": {},
   "outputs": [
    {
     "name": "stdout",
     "output_type": "stream",
     "text": [
      "vcerveza:  ['lupulo', 'malta', 'agua', 'levadura']\n",
      "vcoste:    {'lupulo': 2.5, 'malta': 1.5, 'agua': 0.006, 'levadura': 0.45}\n",
      "vcantidad: {'lupulo': 6, 'malta': 14, 'agua': 7, 'levadura': 11}\n",
      "--------------------------------------------------------------------\n",
      "Precio   lupulo = 2.500 € *  6 unid. = 15.000 €\n",
      "Precio    malta = 1.500 € * 14 unid. = 21.000 €\n",
      "Precio     agua = 0.006 € *  7 unid. = 0.042 €\n",
      "Precio levadura = 0.450 € * 11 unid. = 4.950 €\n",
      "El precio de la cerveza es: 40.992 €\n"
     ]
    }
   ],
   "source": [
    "# Cuánto cuesta hacer cerveza\n",
    "\n",
    "# D={lúpulo, malta, agua, levadura}\n",
    "# vcoste = {lúpulo: 2,5€, malta: 1.5€, agua: 0.006€, levadura: 0,45€}\n",
    "# vcantidad = {lúpulo: 6u, malta: 14u, agua: 7u, levadura: 11u}\n",
    "\n",
    "# Definimos el vector vcerveza con sus ingredientes\n",
    "vcerveza = ['lupulo', 'malta', 'agua', 'levadura']\n",
    "# Definimos los diccionarios\n",
    "vcoste ={\n",
    "    'lupulo': 2.5,\n",
    "    'malta': 1.5,\n",
    "    'agua':0.006,\n",
    "    'levadura': 0.45\n",
    "}\n",
    "\n",
    "vcantidad ={\n",
    "    'lupulo': 6,\n",
    "    'malta': 14,\n",
    "    'agua':7,\n",
    "    'levadura': 11\n",
    "}\n",
    "\n",
    "print(\"vcerveza: \", vcerveza)   \n",
    "print(\"vcoste:   \", vcoste)\n",
    "print(\"vcantidad:\", vcantidad)\n",
    "print(\"--------------------------------------------------------------------\")\n",
    "\n",
    "# Inicializamos el precio de la cervez\n",
    "precio = 0\n",
    "\n",
    "# Precio de la cerveza\n",
    "for i in vcerveza:\n",
    "    precioi\t = vcoste[i]*vcantidad[i]\n",
    "    precio += precioi\n",
    "    print (\"Precio {:>8}\".format(i),  \"= {0:.3f}\".format(vcoste[i]),\"€ * {0:2d}\".format(vcantidad[i]),\n",
    "           \"unid. = {0:.3f}\" .format(precioi), \"€\")\n",
    "\n",
    "print (\"El precio de la cerveza es: {0:.3f} €\".format(precio))"
   ]
  },
  {
   "cell_type": "markdown",
   "metadata": {},
   "source": [
    "#### Opción 2. Con procedimientos que devuelven el coste total de la cerveza"
   ]
  },
  {
   "cell_type": "code",
   "execution_count": 15,
   "metadata": {},
   "outputs": [],
   "source": [
    "# Procedimiento que devuelve la suma del producto de los elementos de dos diccionarios \n",
    "def mult_diccionarios(v,w, indice):\n",
    "    return sum([v[index] * w[index] for index in indice])\n",
    "\n",
    "# Procedimiento que calcula el coste de la cerveza\n",
    "def coste_cerveza():\n",
    "    \n",
    "    # Definimos el vector vcerveza con sus ingredientes\n",
    "    vcerveza = ['lupulo', 'malta', 'agua', 'levadura']\n",
    "    # Definimos los diccionarios\n",
    "    vcoste ={\n",
    "        'lupulo': 2.5,\n",
    "        'malta': 1.5,\n",
    "        'agua':0.006,\n",
    "        'levadura': 0.45\n",
    "    }\n",
    "\n",
    "    vcantidad ={\n",
    "        'lupulo': 6,\n",
    "        'malta': 14,\n",
    "        'agua':7,\n",
    "        'levadura': 11\n",
    "    }\n",
    "\n",
    "    print(\"vcerveza: \", vcerveza)\n",
    "    print(\"vcoste:   \", vcoste)\n",
    "    print(\"vcantidad:\", vcantidad)\n",
    "    precio = mult_diccionarios(vcoste, vcantidad, vcerveza)\n",
    "\n",
    "    print (\"El precio de la cerveza es: {0:.3f} €\".format(precio))\n"
   ]
  },
  {
   "cell_type": "code",
   "execution_count": 16,
   "metadata": {},
   "outputs": [
    {
     "name": "stdout",
     "output_type": "stream",
     "text": [
      "vcerveza:  ['lupulo', 'malta', 'agua', 'levadura']\n",
      "vcoste:    {'lupulo': 2.5, 'malta': 1.5, 'agua': 0.006, 'levadura': 0.45}\n",
      "vcantidad: {'lupulo': 6, 'malta': 14, 'agua': 7, 'levadura': 11}\n",
      "El precio de la cerveza es: 40.992 €\n"
     ]
    }
   ],
   "source": [
    "coste_cerveza()"
   ]
  },
  {
   "cell_type": "markdown",
   "metadata": {},
   "source": [
    "## 5. La carrera de caballos\n",
    "\n",
    "Tres caballos A, B y C compiten en una carrera.  \n",
    "Las apuestas para dar como vencedor a cada uno de ellos son de 4 a 1 para A, 3 a 1 para B y 2 a 1 para C, tomando las unidades siempre en euros.  \n",
    "¿Cuánto debo apostar por cada caballo para asegurarme recibir 13 euros en toal, sin importar qué csaballo gane la carrera?"
   ]
  },
  {
   "cell_type": "markdown",
   "metadata": {},
   "source": [
    "Sean x,y,z el dinero apostado por los caballos A, B y C respectivamente.\n",
    "El objetivo del problema escalcular la cantidad que debe apostarse por cada caballo de forma que la suma del dinero recibido y perdido en ñas apuestas sea siempre igual a 13€.  \n",
    "Así, podemos plantear un sistema de tres ecuaciones con tres incógnitas, en el que igualaremos matemáticamente la cantidad percibida por la victoria de los caballos A, B, C y, al mismo tiempo, señalaremos que esta cantidad corresponde a 13€.  \n",
    "\n",
    "> 4x-y-z=3y-x-z  \n",
    "> 3y-x-z=2z-x-y  \n",
    "> 2z-x-y=13\n"
   ]
  },
  {
   "cell_type": "code",
   "execution_count": 17,
   "metadata": {},
   "outputs": [],
   "source": [
    "# Operamos el sistema de tres ecuaciones con tres incognitas\n",
    "\n",
    "# 5x -4y = 0\n",
    "# 4y -3z = 0\n",
    "# -x-y+2z = 13\n"
   ]
  },
  {
   "cell_type": "code",
   "execution_count": 18,
   "metadata": {},
   "outputs": [
    {
     "data": {
      "text/plain": [
       "12.999999999999995"
      ]
     },
     "execution_count": 18,
     "metadata": {},
     "output_type": "execute_result"
    }
   ],
   "source": [
    "# Calculamos el determinante de la matriz\n",
    "\n",
    "import numpy as np\n",
    "\n",
    "M = np.matrix([\n",
    "    [5, -4, 0],\n",
    "    [0, 4, -3],\n",
    "    [-1, -1, 2]\n",
    "])\n",
    "\n",
    "detM = np.linalg.det(M)\n",
    "detM"
   ]
  },
  {
   "cell_type": "markdown",
   "metadata": {},
   "source": [
    "Como el determinante de la matiz M es distinto de 0  en un sistema de 3 ecuaciones con 3 incongnitas.\n",
    "\n",
    "El rg (M) es 3 --> Sistema  COMPATIBLE con solución única"
   ]
  },
  {
   "cell_type": "code",
   "execution_count": 19,
   "metadata": {},
   "outputs": [
    {
     "name": "stdout",
     "output_type": "stream",
     "text": [
      "El rango de V es:  3\n",
      "El rango de VA es:  3\n"
     ]
    }
   ],
   "source": [
    "# Calculamos el rango de la matriz y su matriz ampliada\n",
    "import numpy as np\n",
    "\n",
    "M = np.matrix([\n",
    "    [5, -4, 0],\n",
    "    [0, 4, -3],\n",
    "    [-1, -1, 2]\n",
    "])\n",
    "\n",
    "\n",
    "# Matriz ampliada\n",
    "MA = np.matrix([\n",
    "    [5, -4, 0, 0],\n",
    "    [0, 4, -3, 0],\n",
    "    [-1, -1, 2, 13]\n",
    "])\n",
    "\n",
    "\n",
    "rgM = np.linalg.matrix_rank(M)\n",
    "print (\"El rango de V es: \",rgM)\n",
    "\n",
    "rgMA = np.linalg.matrix_rank(MA)\n",
    "print (\"El rango de VA es: \",rgMA)"
   ]
  },
  {
   "cell_type": "markdown",
   "metadata": {},
   "source": [
    "Como el rango de la matriz M y la matriz ampliada de MA son iguales a 3 llegamos a la misma conclusión.\n",
    "\n",
    "Sistema COMPATIBLE con solución única"
   ]
  },
  {
   "cell_type": "code",
   "execution_count": 20,
   "metadata": {},
   "outputs": [
    {
     "data": {
      "text/plain": [
       "{x: 12, y: 15, z: 20}"
      ]
     },
     "execution_count": 20,
     "metadata": {},
     "output_type": "execute_result"
    }
   ],
   "source": [
    "# Opción 1. Solución con solve_linear_system\n",
    "from sympy import Matrix, solve_linear_system\n",
    "from sympy.abc import x, y, z\n",
    "\n",
    "MA = Matrix([\n",
    "    [5, -4, 0, 0],\n",
    "    [0, 4, -3, 0],\n",
    "    [-1, -1, 2, 13]\n",
    "])\n",
    "\n",
    "solve_linear_system(MA, x, y,z)"
   ]
  },
  {
   "cell_type": "code",
   "execution_count": 21,
   "metadata": {},
   "outputs": [
    {
     "data": {
      "text/plain": [
       "[12.0, 15.0, 20.0]"
      ]
     },
     "execution_count": 21,
     "metadata": {},
     "output_type": "execute_result"
    }
   ],
   "source": [
    "# Opción 2. Solución con el Método Cramer\n",
    "import numpy as np\n",
    "\n",
    "M =  np.matrix([\n",
    "    [5, -4, 0],\n",
    "    [0, 4, -3],\n",
    "    [-1, -1, 2]\n",
    "])\n",
    "\n",
    "MX  =  np.matrix([\n",
    "    [0, -4, 0],\n",
    "    [0, 4, -3],\n",
    "    [13, -1, 2]\n",
    "])\n",
    "\n",
    "MY =  np.matrix([\n",
    "    [5, 0, 0],\n",
    "    [0, 0, -3],\n",
    "    [-1, 13, 2]\n",
    "])\n",
    "\n",
    "MZ =  np.matrix([\n",
    "    [5, -4, 0],\n",
    "    [0, 4, 0],\n",
    "    [-1, -1, 13]\n",
    "])\n",
    "\n",
    "x = np.linalg.det(MX)/np.linalg.det(M)\n",
    "y = np.linalg.det(MY)/np.linalg.det(M)\n",
    "z = np.linalg.det(MZ)/np.linalg.det(M)\n",
    "\n",
    "S =  ([round(x), round(y), round(z)])\n",
    "S"
   ]
  },
  {
   "cell_type": "markdown",
   "metadata": {},
   "source": [
    "El dinero apostado a los caballos A, B y C será 12, 15 y 20 € respectivamente"
   ]
  },
  {
   "cell_type": "markdown",
   "metadata": {},
   "source": [
    "## 6. Dimensión de matrices\n",
    "\n",
    "Sea la matriz $\n",
    "  M=\n",
    "  \\left[ {\\begin{array}{cc}\n",
    "   1 & 0  & 0 & 5 \\\\\n",
    "   0 & 2  & 0 & 7 \\\\\n",
    "   0 & 0  & 3 & 9 \\\\\n",
    "  \\end{array} } \\right]\n",
    "$. Calcular el rango por filas y por columnas usando Python."
   ]
  },
  {
   "cell_type": "code",
   "execution_count": 22,
   "metadata": {},
   "outputs": [
    {
     "name": "stdout",
     "output_type": "stream",
     "text": [
      "Matriz M\n",
      " [[1 0 0 5]\n",
      " [0 2 0 7]\n",
      " [0 0 3 9]]\n",
      "El rango de la matrix M por filas es:  3\n",
      "\n",
      "Matriz traspuesta M\n",
      " [[1 0 0]\n",
      " [0 2 0]\n",
      " [0 0 3]\n",
      " [5 7 9]]\n",
      "El rango de la matrix M por columnas es:  3\n"
     ]
    }
   ],
   "source": [
    "import numpy as np\n",
    "M=np.matrix([\n",
    "   [1,0,0,5],\n",
    "   [0,2,0,7],\n",
    "   [0,0,3,9]\n",
    "   ])\n",
    "print (\"Matriz M\\n\", M)\n",
    "rangoM = np.linalg.matrix_rank(M)\n",
    "print (\"El rango de la matrix M por filas es: \", rangoM)\n",
    "\n",
    "# Matriz traspuesta\n",
    "MT = np.transpose(M)\n",
    "print (\"\\nMatriz traspuesta M\\n\", MT)\n",
    "rangoMT = np.linalg.matrix_rank(MT)\n",
    "print (\"El rango de la matrix M por columnas es: \", rangoMT)"
   ]
  },
  {
   "cell_type": "markdown",
   "metadata": {},
   "source": [
    "Conclusión: el rango de la matriz M por filas y columnas es 3.\n",
    "\n",
    "El rango de una matriz se define como el nº de vectores linealmente independientes que la componen"
   ]
  },
  {
   "cell_type": "markdown",
   "metadata": {},
   "source": [
    "#### Rango de M por filas"
   ]
  },
  {
   "cell_type": "code",
   "execution_count": 24,
   "metadata": {},
   "outputs": [],
   "source": [
    "# Las filas de M estan compuestos por los vectores:\n",
    "# [1,0,0,5]\n",
    "# [0,2,0,7]\n",
    "# [0,0,3,9]"
   ]
  },
  {
   "cell_type": "code",
   "execution_count": 25,
   "metadata": {},
   "outputs": [
    {
     "name": "stdout",
     "output_type": "stream",
     "text": [
      "Resultado:  [{x: 0, y: 0, z: 0}]\n"
     ]
    },
    {
     "data": {
      "text/plain": [
       "[{x: 0, y: 0, z: 0}]"
      ]
     },
     "execution_count": 25,
     "metadata": {},
     "output_type": "execute_result"
    }
   ],
   "source": [
    "# Verifiquemos si las filas de M son linealmente independientes\n",
    "import sympy as sp\n",
    "x = sp.Symbol('x')\n",
    "y = sp.Symbol('y')\n",
    "z = sp.Symbol('z')\n",
    "\n",
    "resultado = sp.solve([x, 2*y, 3*z, 5*x +7*y*9*z])  # sin incluir [x, y, z]\n",
    "print(\"Resultado: \", resultado)\n",
    "\n",
    "resultado"
   ]
  },
  {
   "cell_type": "markdown",
   "metadata": {},
   "source": [
    "Como la solución es la trivial, se deduce que las filas de M son linealmente independientes y por tanto el rango por filas de M es 3"
   ]
  },
  {
   "cell_type": "markdown",
   "metadata": {},
   "source": [
    "#### Rango de M por columnas"
   ]
  },
  {
   "cell_type": "code",
   "execution_count": null,
   "metadata": {},
   "outputs": [],
   "source": [
    "# Las columnas de M están compuestas por los vectores:\n",
    "# [1,0,0]\n",
    "# [0,2,0]\n",
    "# [0,0,3]\n",
    "# [5,7,9]"
   ]
  },
  {
   "cell_type": "code",
   "execution_count": 26,
   "metadata": {},
   "outputs": [
    {
     "name": "stdout",
     "output_type": "stream",
     "text": [
      "Resultado:  {y: 7*z/6, x: 5*z/3, w: -z/3}\n"
     ]
    },
    {
     "data": {
      "text/plain": [
       "{y: 7*z/6, x: 5*z/3, w: -z/3}"
      ]
     },
     "execution_count": 26,
     "metadata": {},
     "output_type": "execute_result"
    }
   ],
   "source": [
    "# Verifiquemos si las columnas de M son linealmente independientes\n",
    "import sympy as sp\n",
    "x = sp.Symbol('x')\n",
    "y = sp.Symbol('y')\n",
    "z = sp.Symbol('z')\n",
    "w = sp.Symbol('w')\n",
    "\n",
    "resultado = sp.solve([x + 5*w, 2*y + 7*w, 3*z + 9*w]) \n",
    "print(\"Resultado: \", resultado)\n",
    "\n",
    "resultado"
   ]
  },
  {
   "cell_type": "markdown",
   "metadata": {},
   "source": [
    "Como la solución no es la trivial, se deduce que las columnas de M son linealmente dependientes.\n",
    "\n",
    "Concretamente la cuarta columna es combinación lineal de las otras tres \n",
    "\n",
    "[5,7,9] = 5* [1,0,0] + (7/2) * [0,2,0] + 3* [0,0,3]\n"
   ]
  },
  {
   "cell_type": "code",
   "execution_count": 27,
   "metadata": {},
   "outputs": [
    {
     "name": "stdout",
     "output_type": "stream",
     "text": [
      "Resultado:  {z: 0, y: 0, x: 0}\n"
     ]
    },
    {
     "data": {
      "text/plain": [
       "{z: 0, y: 0, x: 0}"
      ]
     },
     "execution_count": 27,
     "metadata": {},
     "output_type": "execute_result"
    }
   ],
   "source": [
    "# Eliminamos la cuarta columna y nos quedamos únicamente con las tres primeras columnas y repetimos el proceso\n",
    "\n",
    "# [1,0,0]\n",
    "# [0,2,0]\n",
    "# [0,0,3]\n",
    "\n",
    "# Verifiquemos si las filas de M son linealmente independientes\n",
    "import sympy as sp\n",
    "x = sp.Symbol('x')\n",
    "y = sp.Symbol('y')\n",
    "z = sp.Symbol('z')\n",
    "w = sp.Symbol('w')\n",
    "\n",
    "resultado = sp.solve([x, 2*y, 3*z]) \n",
    "print(\"Resultado: \", resultado)\n",
    "\n",
    "resultado"
   ]
  },
  {
   "cell_type": "markdown",
   "metadata": {},
   "source": [
    "Como la solución es la trivial, se deduce que las tres primeras columnas de M son linealmente independientes y por tanto el rango por columnas de M es 3"
   ]
  },
  {
   "cell_type": "markdown",
   "metadata": {},
   "source": [
    "## 7. Bosque de extensión mínima\n",
    "\n",
    "<img src=\"Images/bosque.png\" style=\"width: 800px;\"/>\n",
    "\n",
    "En clase hemos hecho el caso del grafo de la derecha. Le toca el turno al de la izquierda.\n",
    "Supongamos que queremos diseñar la red de internet para el otro campus universitario.  \n",
    "La red debe lograr la misma conectividad que el grafo de entrada.  \n",
    "Una arista representa un posible cable.  \n",
    "El peso de la arista es el coste de instalar el cable.  \n",
    "Nuestro objetivo es minimizar el coste total, usando el algoritmo Grow y el algoritmo Shrink.\n",
    "Lo único que en este caso se pide crear un procedimiento para el algoritmo Grow y otro para el Shrink que lo hagan automáticamente una vez les metamos como parámetros las aristas y sus pesos"
   ]
  },
  {
   "cell_type": "code",
   "execution_count": 28,
   "metadata": {},
   "outputs": [],
   "source": [
    "# Definimos ambos grafos el de la izquierda y el de la derecha\n",
    "grafo =[(\"PC\", \"AC\", 7), \n",
    "        (\"PC\", \"BM\", 2),\n",
    "        (\"BM\", \"AC\", 9)]\n",
    "grafo1 = [(\"MQ\",\"WQ\",3),\n",
    "          (\"MQ\",\"KQ\",5),\n",
    "          (\"KQ\",\"WQ\",4),\n",
    "          (\"KQ\",\"GQ\",8),\n",
    "          (\"GQ\",\"WQ\",6)]"
   ]
  },
  {
   "cell_type": "code",
   "execution_count": 29,
   "metadata": {},
   "outputs": [],
   "source": [
    "# Definimos las funciones necesarias para ambos algoritmos\n",
    "\n",
    "# Función que devuelve el peso de un grafo\n",
    "def Get_Peso(grafo):\n",
    "        return grafo[2]\n",
    "\n",
    "# Función que devuelve la suma de los pesos de un grafo \n",
    "def Get_SumaPeso(grafo):\n",
    "    suma = 0 \n",
    "    for i in grafo:\n",
    "        suma = suma + i[2]\n",
    "    return suma\n",
    "\n",
    "# Función que devuelve un listado de todos los vértices de un grafo \n",
    "def Get_Vertices(grafo):\n",
    "    lvertices = []\n",
    "    for i in range(0,len(grafo)):\n",
    "        for j in range(0,2):\n",
    "            lvertices.append(grafo[i][j])\n",
    "    return lvertices"
   ]
  },
  {
   "cell_type": "code",
   "execution_count": 30,
   "metadata": {},
   "outputs": [],
   "source": [
    "def AlgorithmGrow(grafo):\n",
    "    \n",
    "    # Definimos el bosque y la lista de vertices\n",
    "    lbosque = []\n",
    "    lvertices = []\n",
    "    \n",
    "    print(\"************Partimos de estos datos de inicio********************\")\n",
    "    print(\"Bosque :  \", lbosque)\n",
    "    print(\"Vertices: \", lvertices)\n",
    "    \n",
    "    print(\"************ Operaciones Algoritmo Grow ********************\")\n",
    "    # Orden ascendente por peso de los elementos del grafo\n",
    "    grafo=sorted(grafo, key=Get_Peso, reverse=False)\n",
    "    \n",
    "    # Añadir la primera arista junto con su peso en el lbosque\n",
    "    lbosque.append(grafo[0])\n",
    "    \n",
    "    # Añadir los vertices en la lista de vertices\n",
    "    lvertices.append(grafo[0][0])\n",
    "    lvertices.append(grafo[0][1])\n",
    "    \n",
    "    index=0\n",
    "    # Comprobamos que las aristas y vertices están en el lbosque \n",
    "    # Si alguna de las aristas no está en el bosque se añade\n",
    "    # Igualmente si alguno de los vertices no está en la lista de vertices tb se añade\n",
    "    while index <len(grafo):\n",
    "        if grafo[index][0] in lvertices:\n",
    "            if grafo[index][1] not in lvertices:\n",
    "                lbosque.append(grafo[index])\n",
    "                lvertices.append(grafo[index][1])\n",
    "        else:\n",
    "            lbosque.append(grafo[index])\n",
    "            lvertices.append(grafo[index][0])\n",
    "        index=index+1\n",
    "    \n",
    "    # Cálculamos la suma de los pesos del lbosque\n",
    "    peso = Get_SumaPeso(lbosque)\n",
    "\n",
    "    print (\"Algoritmo de Grow- lbosque resultante: \", lbosque, \"con un peso total de: \", peso)\n"
   ]
  },
  {
   "cell_type": "code",
   "execution_count": 31,
   "metadata": {},
   "outputs": [
    {
     "name": "stdout",
     "output_type": "stream",
     "text": [
      "************Partimos de estos datos de inicio********************\n",
      "Bosque :   []\n",
      "Vertices:  []\n",
      "************ Operaciones Algoritmo Grow ********************\n",
      "Algoritmo de Grow- lbosque resultante:  [('PC', 'BM', 2), ('PC', 'AC', 7)] con un peso total de:  9\n"
     ]
    }
   ],
   "source": [
    "AlgorithmGrow(grafo)"
   ]
  },
  {
   "cell_type": "code",
   "execution_count": 32,
   "metadata": {},
   "outputs": [
    {
     "name": "stdout",
     "output_type": "stream",
     "text": [
      "************Partimos de estos datos de inicio********************\n",
      "Bosque :   []\n",
      "Vertices:  []\n",
      "************ Operaciones Algoritmo Grow ********************\n",
      "Algoritmo de Grow- lbosque resultante:  [('MQ', 'WQ', 3), ('KQ', 'WQ', 4), ('GQ', 'WQ', 6)] con un peso total de:  13\n"
     ]
    }
   ],
   "source": [
    "AlgorithmGrow(grafo1)"
   ]
  },
  {
   "cell_type": "code",
   "execution_count": 33,
   "metadata": {},
   "outputs": [],
   "source": [
    "# Algoritmo Shrink\n",
    "def AlgoritmShrink(grafo):\n",
    "    \n",
    "    # Definimos el lbosque y la lista de vertices\n",
    "    lbosque=[]\n",
    "    lvertices = []\n",
    "    \n",
    "    print(\"************Partimos de estos datos de inicio********************\")\n",
    "  \n",
    "    # Partimos de bosque completo en orden decreciente por el peso y la lista de vertices total \n",
    "    lbosque = sorted(grafo, key=Get_Peso, reverse=True)\n",
    "    print(\"Bosque :  \", lbosque)\n",
    "    \n",
    "    lvertices=Get_Vertices(lbosque)\n",
    "    print(\"Vertices: \", lvertices)\n",
    "    \n",
    "    index = 0\n",
    "    longitud = len(grafo)\n",
    "    lbosquedel = []\n",
    "    lbosquecopy = []\n",
    "    \n",
    "    print(\"************ Operaciones Algoritmo Shrink ********************\")\n",
    "    # Comprobamos que las aristas y vertices están en el lbosque y en tal caso los eliminamos\n",
    "    while index <longitud:\n",
    "        lbosquecopy = lbosque.copy()\n",
    "        # Obtenemos los nodos de cada registro del grafo\n",
    "        v1=lbosquecopy[index][0]\n",
    "        v2=lbosquecopy[index][1]\n",
    "\n",
    "        # Bosque resultante tras eliminar el primer registro del grafo\n",
    "        lbosquedel = lbosque.copy()\n",
    "        lbosquedel.remove(lbosquedel[index])\n",
    "        \n",
    "        # Listado de vertices del bosque resultante\n",
    "        lvertices=Get_Vertices(lbosquedel)\n",
    "\n",
    "        # Comprobamos que los dos nodos se encuentran en la lista de vertices resultantes\n",
    "        if v1 in lvertices:\n",
    "            if v2 in lvertices:\n",
    "                # Si se comprueba que los dos nodos se encuentran en la lista de vertices resultantes\n",
    "                # Asignamos al bosque final el bosque resultante de eliminar el registro\n",
    "                lbosque =lbosquedel.copy() # Asignamos a lbosque el Bosque resultante con longitud -1\n",
    "                index=index\n",
    "                longitud=longitud-1\n",
    "            else:\n",
    "                # Si el nodo2 no se encuentra en la lista de vertices resultante, no se opera con el bosque\n",
    "                index=index+1\n",
    "        # Si el nodo1 no se encuentra en la lista de vertices resultante, no se opera con el bosque\n",
    "        else:\n",
    "            index=index+1\n",
    "\n",
    "    # Cálculamos la suma de los pesos del lbosque final\n",
    "    peso = Get_SumaPeso(lbosque)\n",
    "\n",
    "    print (\"Algoritmo de Shirnk- lbosque resultante: \", lbosque, \"con un peso total de: \", peso)"
   ]
  },
  {
   "cell_type": "code",
   "execution_count": 35,
   "metadata": {},
   "outputs": [
    {
     "name": "stdout",
     "output_type": "stream",
     "text": [
      "************Partimos de estos datos de inicio********************\n",
      "Bosque :   [('BM', 'AC', 9), ('PC', 'AC', 7), ('PC', 'BM', 2)]\n",
      "Vertices:  ['BM', 'AC', 'PC', 'AC', 'PC', 'BM']\n",
      "************ Operaciones Algoritmo Shrink ********************\n",
      "Algoritmo de Shirnk- lbosque resultante:  [('PC', 'AC', 7), ('PC', 'BM', 2)] con un peso total de:  9\n"
     ]
    }
   ],
   "source": [
    "AlgoritmShrink(grafo)"
   ]
  },
  {
   "cell_type": "code",
   "execution_count": 36,
   "metadata": {},
   "outputs": [
    {
     "name": "stdout",
     "output_type": "stream",
     "text": [
      "************Partimos de estos datos de inicio********************\n",
      "Bosque :   [('KQ', 'GQ', 8), ('GQ', 'WQ', 6), ('MQ', 'KQ', 5), ('KQ', 'WQ', 4), ('MQ', 'WQ', 3)]\n",
      "Vertices:  ['KQ', 'GQ', 'GQ', 'WQ', 'MQ', 'KQ', 'KQ', 'WQ', 'MQ', 'WQ']\n",
      "************ Operaciones Algoritmo Shrink ********************\n",
      "Algoritmo de Shirnk- lbosque resultante:  [('GQ', 'WQ', 6), ('KQ', 'WQ', 4), ('MQ', 'WQ', 3)] con un peso total de:  13\n"
     ]
    }
   ],
   "source": [
    "AlgoritmShrink(grafo1)"
   ]
  },
  {
   "cell_type": "markdown",
   "metadata": {},
   "source": [
    "## 8. El dígito móvil\n",
    "\n",
    "<img src=\"Images/imagenx2.png\" style=\"width: 500px;\"/>\n",
    "\n",
    "Hallar un número tal que, multiplicado por 3 y dividido entre 2, dé el mismo resultado que si moviéramos el primer dígito del número, el 3, desde el principio hasta el final de la fila de dígitos\n",
    "\n",
    "PISTA: Los únicos números que, al ser multiplicados por determinadas cifras, producen otros números cuyos dígitos siguen la misma secuencia que el número original aunque comenzando por otro de sus dígitos, son los períodos de los números decimales periódicos. Estos números se dicen **cíclicos**.  \n",
    "Nosotros queremos buscar un número de este tipo\n",
    "\n",
    "PISTA: No hay que resolverlo con Python"
   ]
  },
  {
   "cell_type": "code",
   "execution_count": 37,
   "metadata": {
    "scrolled": true
   },
   "outputs": [
    {
     "data": {
      "text/plain": [
       "1285713.0"
      ]
     },
     "execution_count": 37,
     "metadata": {},
     "output_type": "execute_result"
    }
   ],
   "source": [
    "# Partimos de que Los únicos números primos menores que 100, \n",
    "# que generan números cíclicos son: 7, 17, 19, 23, 29, 47, 59, 61 y 97.\n",
    "\n",
    "# Aplicamos este Teorema\n",
    "# Sea p un número primo mayor a cinco. Si la longitud del periodo de 1/p es de p-1, \n",
    "# entonces el periodo de dicha fracción es un número cíclico. En este caso decimos que p genera un número cíclico.\n",
    "\n",
    "p = 7\n",
    "\n",
    "# 1/p = 0.142857 periodico y como la longitud del periodo de 1/p tiene longitud 6 --> es cíclico\n",
    "1/p \n",
    "\n",
    "142857 * 6            # = 857142\n",
    "((142857 * 6) * 3)/2  # = 1285713 no nos sirve porque no se "
   ]
  },
  {
   "cell_type": "code",
   "execution_count": 38,
   "metadata": {},
   "outputs": [
    {
     "data": {
      "text/plain": [
       "0.8571428571428571"
      ]
     },
     "execution_count": 38,
     "metadata": {},
     "output_type": "execute_result"
    }
   ],
   "source": [
    "N = (1/p) * 6            \n",
    "N   # El periodo de N es 857142 y como no empieza por 3 lo descartamos"
   ]
  },
  {
   "cell_type": "code",
   "execution_count": 39,
   "metadata": {},
   "outputs": [
    {
     "name": "stdout",
     "output_type": "stream",
     "text": [
      "N:  0.058823529411764705\n"
     ]
    }
   ],
   "source": [
    "# Probamos con p= 17\n",
    "\n",
    "p = 17\n",
    "N = 1/p \n",
    "print (\"N: \", N)"
   ]
  },
  {
   "cell_type": "markdown",
   "metadata": {},
   "source": [
    "El periodo de N es 0588235294117647 y tiene longitud 16 que es p -1 --> se trata de un número cíclico"
   ]
  },
  {
   "cell_type": "code",
   "execution_count": 40,
   "metadata": {},
   "outputs": [
    {
     "name": "stdout",
     "output_type": "stream",
     "text": [
      "N siendo múltiplo de 2 y 3:  0.3529411764705882\n"
     ]
    }
   ],
   "source": [
    "# Aplicamos la condición dada y para ello tiene que ser multiplo de 2 y 3 \n",
    "\n",
    "p = 17\n",
    "N = (1/p) * 6\n",
    "print (\"N siendo múltiplo de 2 y 3: \", N)"
   ]
  },
  {
   "cell_type": "markdown",
   "metadata": {},
   "source": [
    "El periodo de N es 3529411764705882 y tiene longitud 16 que es p -1 --> se trata de un número cíclico y además empieza por 3.\n",
    "\n",
    "Se trataría de un posible candidato."
   ]
  },
  {
   "cell_type": "code",
   "execution_count": 41,
   "metadata": {},
   "outputs": [
    {
     "name": "stdout",
     "output_type": "stream",
     "text": [
      "Numero buscado es:  3529411764705882\n",
      "NCalculado = Número por 3 y dividido por 2 es:  5294117647058823\n",
      "N Desplazado como lista:  [5, 2, 9, 4, 1, 1, 7, 6, 4, 7, 0, 5, 8, 8, 2, 3]\n",
      "N Calculado como lista:   [5, 2, 9, 4, 1, 1, 7, 6, 4, 7, 0, 5, 8, 8, 2, 3]\n",
      "El número que cumple las condiciones es: 3529411764705882\n"
     ]
    }
   ],
   "source": [
    "# Veamos si se cumple que si le multiplicamos por 3 y dividido entre 2,\n",
    "# el resultado es el mismo que si movemos el primer dígito del número, el 3, \n",
    "# desde el principio hasta el final de la fila de dígitos\n",
    "def lista_numero (numero):\n",
    "    lnumero = list(map(int, str(numero)))\n",
    "    lresultado = []\n",
    "    \n",
    "    for i in range(0,len(lnumero)):\n",
    "        lresultado.append(lnumero[i])\n",
    "    return lresultado\n",
    "\n",
    "\n",
    "def mover_posicion(numero):\n",
    "    lnumero = list(map(int, str(numero)))\n",
    "    lresultado = []\n",
    "    \n",
    "    for i in range(0,len(lnumero)):\n",
    "        if i+1 ==len(lnumero):\n",
    "            lresultado.append(lnumero[0])\n",
    "        else:\n",
    "            lresultado.append(lnumero[i+1])\n",
    "    return lresultado\n",
    "\n",
    "\n",
    "N = 3529411764705882\n",
    "print(\"Numero buscado es: \", N)\n",
    "# Convertimos el número en lista\n",
    "lN = lista_numero(N)\n",
    "\n",
    "# Calculamos el producto por 3 y su división entre 2\n",
    "NCalculado = (N * 3) /2\n",
    "\n",
    "# Si el nº calculado es entero y el primer dígito del número es 3\n",
    "if NCalculado.is_integer() and lN[0] == 3:\n",
    "    NCalculado = int(NCalculado)\n",
    "    print(\"NCalculado = Número por 3 y dividido por 2 es: \", NCalculado)\n",
    "    # Comprobamos que el nº de partida N desplazado coincide con el nº calculado\n",
    "    lNDesplazado = mover_posicion(N)\n",
    "    lNCalculado  = lista_numero(NCalculado)\n",
    "    print(\"N Desplazado como lista: \", lNDesplazado)\n",
    "    print(\"N Calculado como lista:  \", lNCalculado)\n",
    "    if lNDesplazado == lNCalculado:\n",
    "        print(\"El número que cumple las condiciones es:\", N)\n",
    "else:\n",
    "    print (\"No es entero\")\n",
    "\n"
   ]
  },
  {
   "cell_type": "code",
   "execution_count": 42,
   "metadata": {},
   "outputs": [],
   "source": [
    "# Procedimiento general\n",
    "# Definimos la lista de nº primos menores de 100 que generan números cíclicos\n",
    "lprimos = [7, 17, 19, 23, 29, 47, 59, 61, 97]\n",
    "\n",
    "def lista_numero (numero):\n",
    "    lnumero = list(map(int, str(numero)))\n",
    "    lresultado = []\n",
    "    \n",
    "    for i in range(0,len(lnumero)):\n",
    "        lresultado.append(lnumero[i])\n",
    "    return lresultado\n",
    "\n",
    "\n",
    "def mover_posicion(numero):\n",
    "    lnumero = list(map(int, str(numero)))\n",
    "    lresultado = []\n",
    "    \n",
    "    for i in range(0,len(lnumero)):\n",
    "        if i+1 ==len(lnumero):\n",
    "            lresultado.append(lnumero[0])\n",
    "        else:\n",
    "            lresultado.append(lnumero[i+1])\n",
    "    return lresultado\n",
    "\n",
    "# Procedimiento general\n",
    "\n",
    "def digito_control_lista(lprimos):\n",
    "    \n",
    "    encontrado = False\n",
    "\n",
    "    for i in lprimos:\n",
    "        # Inicializar los datos\n",
    "        N = 0\n",
    "        NCalculado = 0\n",
    "        lN = []\n",
    "        lNDesplazado= []\n",
    "        lNCalculado = []\n",
    "        \n",
    "        \n",
    "        if (encontrado == False):\n",
    "            # Operamos (1/primo) * 6 y nos quedamos con la parte decimal\n",
    "            N = (1/i) * 6\n",
    "            Ndecimal = int(str(N).split(\".\")[1])\n",
    "            \n",
    "            # Transformamos la parte decimal en lista \n",
    "            lN = lista_numero(Ndecimal)\n",
    "\n",
    "            # Calculamos el producto por 3 y su división entre 2\n",
    "            NCalculado = (Ndecimal * 3) /2\n",
    "\n",
    "            # Si el nº calculado es entero y el primer dígito del número es 3\n",
    "            if NCalculado.is_integer() and lN[0] == 3:\n",
    "                print(\"N es: \", Ndecimal)\n",
    "                NCalculado = int(NCalculado)\n",
    "                print(\"NCalculado = Número por 3 y dividido por 2 es: \", NCalculado)\n",
    "                # Comprobamos que el nº de partida N desplazado coincide con el nº calculado\n",
    "                lNDesplazado = mover_posicion(Ndecimal)\n",
    "                lNCalculado  = lista_numero(NCalculado)\n",
    "                print(\"N Desplazado como lista: \", lNDesplazado)\n",
    "                print(\"N Calculado como lista:  \", lNCalculado)\n",
    "                if lNDesplazado == lNCalculado:\n",
    "                    print(\"El número que cumple las condiciones es:\", Ndecimal)\n",
    "                    encontrado = True\n",
    "\n",
    "        \n",
    "    "
   ]
  },
  {
   "cell_type": "code",
   "execution_count": 43,
   "metadata": {},
   "outputs": [
    {
     "name": "stdout",
     "output_type": "stream",
     "text": [
      "N es:  3529411764705882\n",
      "NCalculado = Número por 3 y dividido por 2 es:  5294117647058823\n",
      "N Desplazado como lista:  [5, 2, 9, 4, 1, 1, 7, 6, 4, 7, 0, 5, 8, 8, 2, 3]\n",
      "N Calculado como lista:   [5, 2, 9, 4, 1, 1, 7, 6, 4, 7, 0, 5, 8, 8, 2, 3]\n",
      "El número que cumple las condiciones es: 3529411764705882\n"
     ]
    }
   ],
   "source": [
    "digito_control_lista(lprimos)\n"
   ]
  },
  {
   "cell_type": "markdown",
   "metadata": {},
   "source": []
  },
  {
   "cell_type": "markdown",
   "metadata": {},
   "source": [
    "## 9. Agujas superpuestas\n",
    "\n",
    "<img src=\"Images/reloj-movimiento--478x578.jpg\" style=\"width: 250px;\"/>\n",
    "\n",
    "El horario y el minutero de un reloj se juntan exactamente cada 65 minutos.  \n",
    "Calcular si el reloj se adelanta o se atrasa, y cuánto por hora.  \n",
    "\n",
    "PISTA: Suponer que las agujas del reloj empiezan en las 12 en punto.\n",
    "\n",
    "PISTA: No hace falta resolverlo con Python"
   ]
  },
  {
   "cell_type": "code",
   "execution_count": 44,
   "metadata": {},
   "outputs": [],
   "source": [
    "# El horario y el minutero de un reloj se juntan exactamente cada 65 minutos\n",
    "# Calcular si el reloj se adelanta o se atrasa, y cuánto por hora.\n",
    "\n",
    "# H = hora de un reloj\n",
    "# M = minutero de un reloj\n",
    "\n",
    "# Reloj se divide en 12 horas (Reloj = 12H)\n",
    "# Si las agujas del reloj empliezan en las 12:00 --> H y M no podrán encontrarse antes de las 13:00 o 1:00 PM\n",
    "# De las 12 horas que componen un reloj, eliminamos 1 hora pq las horas y los minutos se cruzan exactamente 11 veces -> 12/11 \n",
    "\n",
    "# 12/11 = 1 + (1/11) = 1 hora + (1/11) hora = 1 hora y de resto 1\n",
    "# 1/11 = 1 de resto lo pasamos a minutos = 60/11 = 5 minutos y 5 de resto\n",
    "# 5/11 = 5 de resto lo pasamos a segundos = 300/11 = 27.27 segundos\n",
    "# Entonces 12/11 = 1 hora 5 minutos y 27.27 segundos\n",
    "# Según esto las horas donde se cruzan serían (si sumamos siempre 1 hora + 5 minutos + 27 segundos): \n",
    "# 1:05:27\n",
    "# 2:10:54 \n",
    "# 3:16:21\n",
    "# 4:21:48\n",
    "# 5:27:15\n",
    "# 6:32:42\n",
    "# 7:38:09\n",
    "# 8:43:36\n",
    "# 9:49:03\n",
    "# 10:54:30 \n",
    "# 11:59:57 que si tenemos en cuenta los decimales se aproxima practicamente las 12:00\n",
    "# Por lo tanto el reloj va en hora, ni se atrasa ni se adelanta\n",
    "\n",
    "# Si H y M se juntan exactamente cada 65', se cruzarían en las siguientes horas\n",
    "# 1:05\n",
    "# 2:10\n",
    "# 3:15\n",
    "# 4:20\n",
    "# 5:25\n",
    "# 6:30\n",
    "# 7:35\n",
    "# 8:40\n",
    "# 9:45\n",
    "# 10:50 \n",
    "# 11:55 pero faltarían 5 minutos para las 12:00, no es exacto por lo que son 65' y los segundos indicados anteriormente.\n"
   ]
  },
  {
   "cell_type": "raw",
   "metadata": {},
   "source": [
    "El horario y el minutero de un reloj se juntan exactamente cada 65 minutos\n",
    "Calcular si el reloj se adelanta o se atrasa, y cuánto por hora.\n",
    "\n",
    "H = hora de un reloj\n",
    "M = minutero de un reloj\n",
    "\n",
    "Reloj se divide en 12 horas (Reloj = 12H)\n",
    "Si las agujas del reloj empliezan en las 12:00 --> H y M no podrán encontrarse antes de las 13:00 o 1:00 PM\n",
    "De las 12 horas que componen un reloj, eliminamos 1 hora porque las horas y los minutos se cruzan exactamente\n",
    "11 veces --> 12/11 \n",
    "\n",
    "12/11 = 1 + (1/11) = 1 hora + (1/11) hora = 1 hora y de resto 1\n",
    "1/11 = 1 de resto lo pasamos a minutos = 60/11 = 5 minutos y 5 de resto\n",
    "5/11 = 5 de resto lo pasamos a segundos = 300/11 = 27.27 segundos\n",
    "Entonces 12/11 = 1 hora 5 minutos y 27.27 segundos\n",
    "Según esto las horas donde se cruzan serían (si sumamos siempre 1 hora + 5 minutos + 27 segundos): \n",
    " 1:05:27\n",
    " 2:10:54 \n",
    " 3:16:21\n",
    " 4:21:48\n",
    " 5:27:15\n",
    " 6:32:42\n",
    " 7:38:09\n",
    " 8:43:36\n",
    " 9:49:03\n",
    " 10:54:30 \n",
    " 11:59:57 que si tenemos en cuenta los decimales se aproxima practicamente las 12:00\n",
    "Por lo tanto el reloj va en hora, ni se atrasa ni se adelanta\n",
    "\n",
    "Si H y M se juntan exactamente cada 65', se cruzarían en las siguientes horas\n",
    " 1:05\n",
    " 2:10\n",
    " 3:15\n",
    " 4:20\n",
    " 5:25\n",
    " 6:30\n",
    " 7:35\n",
    " 8:40\n",
    " 9:45\n",
    " 10:50 \n",
    " 11:55 pero faltarían 5 minutos para las 12:00, no es exacto por lo que son 65' y los segundos indicados anteriormente.\n",
    "\n"
   ]
  },
  {
   "cell_type": "markdown",
   "metadata": {},
   "source": [
    "## 10. Cuadrados perfectos\n",
    "\n",
    "<img src=\"Images/cuadrados-perfectos.jpg\" style=\"width: 500px;\"/>\n",
    "\n",
    "Averiguar el número entero positivo que, sumado tanto a 100 como a 164, propociona sendos cuadrados perfectos.\n",
    "\n",
    "PISTA: No hace falta resolverlo con Python"
   ]
  },
  {
   "cell_type": "code",
   "execution_count": 45,
   "metadata": {},
   "outputs": [],
   "source": [
    "# Averiguar el número entero positivo que, sumado tanto a 100 como a 164, propociona sendos cuadrados perfectos.\n",
    "import math\n",
    "\n",
    "sumando1 = 100\n",
    "sumando2 = 164\n",
    "\n",
    "def suma_entero(numero1, numero2):\n",
    "    return numero1 + numero2\n",
    "\n",
    "def esCuadradoPerfecto(numero):\n",
    "    try:\n",
    "        if (math.sqrt(numero) - int(math.sqrt(numero))): \n",
    "            return False\n",
    "        else:  \n",
    "            return True\n",
    "    except ValueError:\n",
    "        return False\n",
    "\n",
    "def RaizCuadrada(numero):\n",
    "    return math.sqrt(numero)\n",
    "\n",
    "def listaenteros(liminf, limsup):\n",
    "\n",
    "    # Lista de reales comprendidos entre 0 y 1 con dos decimales\n",
    "    lenteros=[]\n",
    "    \n",
    "    entero = liminf\n",
    "    \n",
    "    while entero <= limsup :      \n",
    "        lenteros.append(entero)        \n",
    "        entero +=  1\n",
    "        \n",
    "    return lenteros\n",
    "    \n",
    "# Procedimiento que obtiene el entero positivo o enteros positivos que sumados tanto a 100 como a 164,\n",
    "# propociona sendos cuadrados perfectos.   \n",
    "def cuadrado_perfecto(liminf, limsup):\n",
    "\n",
    "    lvalores = listaenteros(liminf, limsup)\n",
    "    lresultado = []\n",
    "    #print (\"Lista de valores: \", lvalores)\n",
    "    \n",
    "    for index in range(len(lvalores)):\n",
    "        nsuma100 = 0\n",
    "        nsuma164 = 0\n",
    "        nsuma100 = suma_entero(lvalores[index], sumando1)\n",
    "        nsuma164 = suma_entero(lvalores[index], sumando2)\n",
    "        #print (\"Index: \", lvalores[index], \"-\", nsuma100, \"-\", nsuma164)\n",
    "        \n",
    "        if esCuadradoPerfecto(nsuma100) and esCuadradoPerfecto(nsuma164):\n",
    "            lresultado.append(lvalores[index])\n",
    "            print (\"Raíz cuadrada de \", nsuma100, \" es: \", RaizCuadrada(nsuma100))\n",
    "            print (\"Raíz cuadrada de \", nsuma164, \" es: \", RaizCuadrada(nsuma164))\n",
    "            print (\"El número buscado es: \", lvalores[index])\n",
    "    \n",
    "    print (\"La lista de enteros resultante es: \", lresultado)   "
   ]
  },
  {
   "cell_type": "code",
   "execution_count": 46,
   "metadata": {},
   "outputs": [
    {
     "name": "stdout",
     "output_type": "stream",
     "text": [
      "Raíz cuadrada de  225  es:  15.0\n",
      "Raíz cuadrada de  289  es:  17.0\n",
      "El número buscado es:  125\n",
      "La lista de enteros resultante es:  [125]\n"
     ]
    }
   ],
   "source": [
    "cuadrado_perfecto(1, 5000)"
   ]
  },
  {
   "cell_type": "code",
   "execution_count": 47,
   "metadata": {},
   "outputs": [
    {
     "name": "stdout",
     "output_type": "stream",
     "text": [
      "Raíz cuadrada de  225  es:  15.0\n",
      "Raíz cuadrada de  289  es:  17.0\n",
      "El número buscado es:  125\n",
      "La lista de enteros resultante es:  [125]\n"
     ]
    }
   ],
   "source": [
    "cuadrado_perfecto(1, 50000)"
   ]
  },
  {
   "cell_type": "code",
   "execution_count": 48,
   "metadata": {},
   "outputs": [
    {
     "name": "stdout",
     "output_type": "stream",
     "text": [
      "La lista de enteros resultante es:  []\n"
     ]
    }
   ],
   "source": [
    "cuadrado_perfecto(200, 50000)"
   ]
  },
  {
   "cell_type": "markdown",
   "metadata": {},
   "source": []
  },
  {
   "cell_type": "markdown",
   "metadata": {},
   "source": [
    "## 11. Días de vacaciones\n",
    "\n",
    "<img src=\"Images/vacaciones.jpg\" style=\"width: 500px;\"/>\n",
    "\n",
    "Durante mis vacaciones llovió 9 días, y hubo 10 mañanas y 9 tardes soleadas. Cuando llovió por la mañana, la tarde fue soleada.\n",
    "¿Cuántos días duraron mis vacaciones?"
   ]
  },
  {
   "cell_type": "code",
   "execution_count": 49,
   "metadata": {},
   "outputs": [
    {
     "name": "stdout",
     "output_type": "stream",
     "text": [
      "El determinante de V es:  -2.0\n"
     ]
    }
   ],
   "source": [
    "# Días de vacaciones\n",
    "# Durante mis vacaciones llovió 9 días, y hubo 10 mañanas y 9 tardes soleadas.\n",
    "# Cuando llovió por la mañana, la tarde fue soleada. ¿Cuántos días duraron mis vacaciones?\n",
    "\n",
    "# X = nº días que llovió por la mañana\n",
    "# Y = nº días que llovió por la tarde\n",
    "# Z = nº días soleados por la mañana\n",
    "# W = nº días soleados por la tarde\n",
    "\n",
    "# Para calcular los días de vacaciones tomamos la indicación siguiente:\n",
    "# Cuando llovió por la mañana, la tarde fue soleada,\n",
    "# es decir que ningún día llovió por la mañana y tarde a la vez\n",
    "# V = Vacaciones =  nº días que llovio por la mañana + nº días soleados por la mañana = X + 10\n",
    "\n",
    "# Sistema de ecuaciones\n",
    "\n",
    "# X + Y = 9\n",
    "# X + 10 = Y + 9\n",
    "\n",
    "# Igualo a 0\n",
    "\n",
    "# X + Y = 9\n",
    "# X - Y = -1\n",
    "\n",
    "\n",
    "import numpy as np\n",
    "\n",
    "# V es una matriz cuadrada 2 x 2\n",
    "V = np.matrix([\n",
    "    [1,1],\n",
    "    [1, -1]\n",
    "])\n",
    "\n",
    "detV = np.linalg.det(V)\n",
    "print (\"El determinante de V es: \", detV)"
   ]
  },
  {
   "cell_type": "markdown",
   "metadata": {},
   "source": [
    "Como el determinante de la matiz V es distinto de 0  en un sistema de 2 ecuaciones con 2 incongnitas.\n",
    "\n",
    "El rg (V) es 2 --> Sistema  COMPATIBLE con solución única"
   ]
  },
  {
   "cell_type": "code",
   "execution_count": 50,
   "metadata": {},
   "outputs": [
    {
     "name": "stdout",
     "output_type": "stream",
     "text": [
      "El rango de V es:  2\n",
      "El rango de VA es:  2\n"
     ]
    }
   ],
   "source": [
    "# Cálculo de los rangos\n",
    "import numpy as np\n",
    "\n",
    "V = np.matrix([\n",
    "    [1, 1],\n",
    "    [1, -1]\n",
    "])\n",
    "\n",
    "# Matriz ampliada\n",
    "VA = np.matrix([\n",
    "    [1, 1, 9],\n",
    "    [1, -1, -1]\n",
    "])\n",
    "\n",
    "rgV = np.linalg.matrix_rank(V)\n",
    "print (\"El rango de V es: \",rgV)\n",
    "\n",
    "rgVA = np.linalg.matrix_rank(VA)\n",
    "print (\"El rango de VA es: \",rgVA)"
   ]
  },
  {
   "cell_type": "markdown",
   "metadata": {},
   "source": [
    "Como el rango de la matriz V y la matriz ampliada de V son iguales a 2 llegamos a la misma conclusión.\n",
    "\n",
    "Sistema COMPATIBLE con solución única"
   ]
  },
  {
   "cell_type": "code",
   "execution_count": 51,
   "metadata": {},
   "outputs": [
    {
     "data": {
      "text/plain": [
       "{y: 5, x: 4}"
      ]
     },
     "execution_count": 51,
     "metadata": {},
     "output_type": "execute_result"
    }
   ],
   "source": [
    "from sympy import Matrix, solve_linear_system\n",
    "from sympy.abc import x, y, z\n",
    "\n",
    "VA = Matrix([\n",
    "    [1, 1, 9],\n",
    "    [1, -1, -1]\n",
    "])\n",
    "\n",
    "solve_linear_system(VA, x, y,z)"
   ]
  },
  {
   "cell_type": "code",
   "execution_count": 52,
   "metadata": {},
   "outputs": [
    {
     "data": {
      "text/plain": [
       "[4.0, 5.0]"
      ]
     },
     "execution_count": 52,
     "metadata": {},
     "output_type": "execute_result"
    }
   ],
   "source": [
    "# Método Cramer\n",
    "import numpy as np\n",
    "\n",
    "V = np.matrix([\n",
    "     [1, 1],\n",
    "     [1, -1]\n",
    "])\n",
    "\n",
    "VX= np.matrix([\n",
    "    [9, 1],\n",
    "    [-1, -1]\n",
    "])\n",
    "\n",
    "VY= np.matrix([\n",
    "    [1, 9],\n",
    "    [1, -1]\n",
    "])\n",
    "\n",
    "x = np.linalg.det(VX)/np.linalg.det(V)\n",
    "y = np.linalg.det(VY)/np.linalg.det(V)\n",
    "\n",
    "\n",
    "S =  ([round(x), round(y)])\n",
    "S"
   ]
  },
  {
   "cell_type": "markdown",
   "metadata": {},
   "source": [
    "Entonces con estas soluciones deducimos que\n",
    "\n",
    "X = 4 (nº días que llovió por la mañana)\n",
    "\n",
    "Y = 5 (nº días que llovió por la tarde)\n",
    "\n",
    "Deducimos que V (días de vacaciones) = X + 10 = 14 días \n",
    "\n",
    "Aplicando la segunda ecuación, la igualdad se cumple -->  X +10 = Y + 9 = 5 + 9 = 14 días \n",
    "\n",
    "Por tanto el nº total de días de vacaciones son 14 días"
   ]
  },
  {
   "cell_type": "markdown",
   "metadata": {},
   "source": []
  },
  {
   "cell_type": "markdown",
   "metadata": {},
   "source": []
  }
 ],
 "metadata": {
  "kernelspec": {
   "display_name": "Python 3",
   "language": "python",
   "name": "python3"
  },
  "language_info": {
   "codemirror_mode": {
    "name": "ipython",
    "version": 3
   },
   "file_extension": ".py",
   "mimetype": "text/x-python",
   "name": "python",
   "nbconvert_exporter": "python",
   "pygments_lexer": "ipython3",
   "version": "3.7.4"
  }
 },
 "nbformat": 4,
 "nbformat_minor": 2
}
